{
  "nbformat": 4,
  "nbformat_minor": 0,
  "metadata": {
    "colab": {
      "provenance": [],
      "authorship_tag": "ABX9TyNuIvfhIT9ndDK/+05gBGUp",
      "include_colab_link": true
    },
    "kernelspec": {
      "name": "python3",
      "display_name": "Python 3"
    },
    "language_info": {
      "name": "python"
    }
  },
  "cells": [
    {
      "cell_type": "markdown",
      "metadata": {
        "id": "view-in-github",
        "colab_type": "text"
      },
      "source": [
        "<a href=\"https://colab.research.google.com/github/KillShotAK/UoS-Forex-Trading-Robot/blob/main/PreprocessSTD.ipynb\" target=\"_parent\"><img src=\"https://colab.research.google.com/assets/colab-badge.svg\" alt=\"Open In Colab\"/></a>"
      ]
    },
    {
      "cell_type": "code",
      "source": [
        "pip install scikit-learn"
      ],
      "metadata": {
        "colab": {
          "base_uri": "https://localhost:8080/"
        },
        "id": "-PGBjKJ8wTEl",
        "outputId": "40a48564-53f8-44c3-9067-7e528a3de3fe"
      },
      "execution_count": null,
      "outputs": [
        {
          "output_type": "stream",
          "name": "stdout",
          "text": [
            "Requirement already satisfied: scikit-learn in /usr/local/lib/python3.10/dist-packages (1.3.2)\n",
            "Requirement already satisfied: numpy<2.0,>=1.17.3 in /usr/local/lib/python3.10/dist-packages (from scikit-learn) (1.25.2)\n",
            "Requirement already satisfied: scipy>=1.5.0 in /usr/local/lib/python3.10/dist-packages (from scikit-learn) (1.13.1)\n",
            "Requirement already satisfied: joblib>=1.1.1 in /usr/local/lib/python3.10/dist-packages (from scikit-learn) (1.4.2)\n",
            "Requirement already satisfied: threadpoolctl>=2.0.0 in /usr/local/lib/python3.10/dist-packages (from scikit-learn) (3.5.0)\n"
          ]
        }
      ]
    },
    {
      "cell_type": "code",
      "execution_count": null,
      "metadata": {
        "colab": {
          "base_uri": "https://localhost:8080/"
        },
        "id": "OtqQGgFvj0N1",
        "outputId": "fd59b542-e73b-4df3-8322-48fa8ecb2c12"
      },
      "outputs": [
        {
          "output_type": "stream",
          "name": "stdout",
          "text": [
            "Counts of labels:\n",
            " Label\n",
            "2    6076\n",
            "0    5901\n",
            "1    4241\n",
            "Name: count, dtype: int64\n",
            "Processed data saved to: /content/Processed_EURUSD_prices_Hourly.xlsx\n"
          ]
        }
      ],
      "source": [
        "import pandas as pd\n",
        "import numpy as np\n",
        "\n",
        "# Load the data\n",
        "file_path = '/content/EURUSD_prices_Hourly.xlsx'\n",
        "data = pd.read_excel(file_path)\n",
        "\n",
        "# Calculate log returns of the closing prices\n",
        "data['log_return'] = np.log(data['Close'] / data['Close'].shift(1))\n",
        "\n",
        "# Define the labeling function based on standard deviation\n",
        "def label_std_dev(log_returns, window=20, multiplier=0.25):\n",
        "    rolling_std = log_returns.rolling(window=window).std()\n",
        "    threshold = multiplier * rolling_std\n",
        "    return np.where(log_returns > threshold, \"up\",\n",
        "                    np.where(log_returns < -threshold, \"down\", \"hold\"))\n",
        "\n",
        "# Label the data\n",
        "data['Label'] = label_std_dev(data['log_return'])\n",
        "\n",
        "# Drop the log returns column\n",
        "data.drop(columns=['log_return'], inplace=True)\n",
        "\n",
        "# Feature scaling using Z-Scale on the raw prices and other features\n",
        "features = ['Close', 'Open', 'Low', 'High', 'Volume', 'stochastic', 'momentum', 'wiliams',\n",
        "            'ADI', 'EMA', 'MACD', 'RSI', 'on_balance_volume', 'bb_bbm', 'bb_bbh', 'bb_bbl', 'ATR']\n",
        "data[features] = (data[features] - data[features].mean()) / data[features].std()\n",
        "\n",
        "# Label mapping\n",
        "label_mapping = {'up': 2, 'hold': 1, 'down': 0}\n",
        "data['Label'] = data['Label'].replace(label_mapping)\n",
        "\n",
        "# Count of labels\n",
        "label_counts = data['Label'].value_counts()\n",
        "\n",
        "# Display the counts\n",
        "print(\"Counts of labels:\\n\", label_counts)\n",
        "\n",
        "# Save the processed data to a new file\n",
        "processed_file_path = '/content/Processed_EURUSD_prices_Hourly.xlsx'\n",
        "data.to_excel(processed_file_path, index=False)\n",
        "\n",
        "print(f\"Processed data saved to: {processed_file_path}\")\n"
      ]
    },
    {
      "cell_type": "code",
      "source": [
        "print(data.head())"
      ],
      "metadata": {
        "colab": {
          "base_uri": "https://localhost:8080/"
        },
        "id": "Nc59AoxvpM30",
        "outputId": "bb6a4a75-f549-42cb-944d-074d1f8b29bf"
      },
      "execution_count": null,
      "outputs": [
        {
          "output_type": "stream",
          "name": "stdout",
          "text": [
            "      Close      Open       Low      High    Volume              Date  \\\n",
            "0  0.828998  0.817972  0.814812  0.816385  0.909846  2018-09-24T06:00   \n",
            "1  0.833855  0.828454  0.841671  0.844231  1.526717  2018-09-24T07:00   \n",
            "2  0.908751  0.834334  0.849089  0.894047  1.865108  2018-09-24T08:00   \n",
            "3  0.913864  0.908728  0.915341  0.908097  0.705746  2018-09-24T09:00   \n",
            "4  0.899549  0.914352  0.914062  0.910652  0.703461  2018-09-24T10:00   \n",
            "\n",
            "   stochastic  momentum   wiliams       ADI       EMA      MACD       RSI  \\\n",
            "0   -0.375540 -0.823231 -0.375540  2.309650  0.849296 -0.793577 -0.908798   \n",
            "1   -0.169445 -0.773092 -0.169445  2.271729  0.847423 -0.767831 -0.768887   \n",
            "2    1.619651 -0.648379  1.619651  2.355578  0.855798 -0.516047  0.768729   \n",
            "3    1.389359 -0.435391  1.389359  2.364515  0.863739 -0.297806  0.843935   \n",
            "4    0.954050 -0.203831  0.954050  2.321411  0.868711 -0.166173  0.528502   \n",
            "\n",
            "   on_balance_volume    bb_bbm    bb_bbh    bb_bbl       ATR  Label  \n",
            "0           2.445373  0.853183  0.812105  0.892657 -0.366554      1  \n",
            "1           2.523791  0.850508  0.806239  0.893197 -0.322339      1  \n",
            "2           2.612617  0.851737  0.813840  0.888013 -0.067037      1  \n",
            "3           2.665783  0.855231  0.825979  0.882802 -0.093260      1  \n",
            "4           2.612687  0.855858  0.828614  0.881409 -0.098250      1  \n"
          ]
        }
      ]
    },
    {
      "cell_type": "code",
      "source": [
        "import matplotlib.pyplot as plt\n",
        "# Calculate the percentage of each label\n",
        "label_percentage = data['Label'].value_counts(normalize=True) * 100\n",
        "\n",
        "# Plot the label distribution as a pie chart\n",
        "plt.figure(figsize=(8, 6))\n",
        "plt.pie(label_percentage, labels=label_percentage.index, autopct='%1.1f%%', startangle=140, colors=['#66b3ff','#99ff99','#ffcc99'])\n",
        "plt.title('Label Distribution in Percentage')\n",
        "plt.axis('equal')  # Equal aspect ratio ensures that pie is drawn as a circle.\n",
        "\n",
        "# Show the plot\n",
        "plt.show()"
      ],
      "metadata": {
        "colab": {
          "base_uri": "https://localhost:8080/",
          "height": 521
        },
        "id": "Pu1BJGFPp19F",
        "outputId": "38094e7f-9444-4603-a20b-22fc3626f6b6"
      },
      "execution_count": null,
      "outputs": [
        {
          "output_type": "display_data",
          "data": {
            "text/plain": [
              "<Figure size 800x600 with 1 Axes>"
            ],
            "image/png": "[encoded data removed]"
          },
          "metadata": {}
        }
      ]
    },
    {
      "cell_type": "code",
      "source": [
        "# Save the processed data to a pickle file\n",
        "processed_pkl_path = '/content/Processed_EURUSD_prices_Hourly.pkl'\n",
        "data.to_pickle(processed_pkl_path)\n",
        "\n",
        "print(f\"Processed data saved to: {processed_pkl_path}\")"
      ],
      "metadata": {
        "colab": {
          "base_uri": "https://localhost:8080/"
        },
        "id": "JSfFusRdp-QO",
        "outputId": "649dcc08-f969-49fa-fcd6-55f46a62c30c"
      },
      "execution_count": null,
      "outputs": [
        {
          "output_type": "stream",
          "name": "stdout",
          "text": [
            "Processed data saved to: /content/Processed_EURUSD_prices_Hourly.pkl\n"
          ]
        }
      ]
    },
    {
      "cell_type": "code",
      "source": [
        "from sklearn.model_selection import train_test_split\n",
        "import pandas as pd\n",
        "import numpy as np\n",
        "\n",
        "# Ensure the DataFrame is sorted by date\n",
        "data = data.sort_values(by='Date')\n",
        "\n",
        "# List of columns to keep (excluding non-technical indicator columns as per your description)\n",
        "features = ['Open', 'High', 'Low', 'Close', 'Volume', 'stochastic', 'momentum', 'wiliams', 'ADI', 'EMA', 'MACD', 'RSI', 'ATR', 'on_balance_volume', 'bb_bbm', 'bb_bbh', 'bb_bbl']\n",
        "\n",
        "# Splitting into features (X) and labels (y)\n",
        "X = data[features]\n",
        "y = data['Label']\n",
        "\n",
        "# First split: 70% training, 30% temp (validation + test)\n",
        "X_train, X_temp, y_train, y_temp = train_test_split(X, y, test_size=0.3, random_state=42, shuffle=False)\n",
        "\n",
        "# Second split: Split the temp set into validation and test (each 10% of total)\n",
        "X_val, X_test, y_val, y_test = train_test_split(X_temp, y_temp, test_size=0.5, random_state=42, shuffle=False)\n",
        "\n",
        "# Save the split data to separate pickle files\n",
        "X_train.to_pickle('/content/x_train_EURUSD_price.pkl')\n",
        "y_train.to_pickle('/content/y_train_EURUSD_price.pkl')\n",
        "X_val.to_pickle('/content/x_val_EURUSD_price.pkl')\n",
        "y_val.to_pickle('/content/y_val_EURUSD_price.pkl')\n",
        "X_test.to_pickle('/content/x_test_EURUSD_price.pkl')\n",
        "y_test.to_pickle('/content/y_test_EURUSD_price.pkl')\n",
        "\n",
        "# Display the paths to confirm\n",
        "split_paths = {\n",
        "    'X_train': '/content/x_train_EURUSD_price.pkl',\n",
        "    'y_train': '/content/y_train_EURUSD_price.pkl',\n",
        "    'X_val': '/content/x_val_EURUSD_price.pkl',\n",
        "    'y_val': '/content/y_val_EURUSD_price.pkl',\n",
        "    'X_test': '/content/x_test_EURUSD_price.pkl',\n",
        "    'y_test': '/content/y_test_EURUSD_price.pkl'\n",
        "}\n",
        "\n",
        "print(f\"Training set size: {len(X_train)}\")\n",
        "print(f\"Validation set size: {len(X_val)}\")\n",
        "print(f\"Testing set size: {len(X_test)}\")\n",
        "print(\"Processed data saved to the following paths:\")\n",
        "for key, path in split_paths.items():\n",
        "    print(f\"{key}: {path}\")\n",
        "\n",
        "# Verify the percentages\n",
        "total = len(X)\n",
        "print(f\"\\nPercentages:\")\n",
        "print(f\"Training: {len(X_train)/total*100:.1f}%\")\n",
        "print(f\"Validation: {len(X_val)/total*100:.1f}%\")\n",
        "print(f\"Testing: {len(X_test)/total*100:.1f}%\")"
      ],
      "metadata": {
        "colab": {
          "base_uri": "https://localhost:8080/"
        },
        "id": "KUBwxXzbuvjB",
        "outputId": "fc713a1e-891e-4911-c591-1b61dece3265"
      },
      "execution_count": null,
      "outputs": [
        {
          "output_type": "stream",
          "name": "stdout",
          "text": [
            "Training set size: 11352\n",
            "Validation set size: 2433\n",
            "Testing set size: 2433\n",
            "Processed data saved to the following paths:\n",
            "X_train: /content/x_train_EURUSD_price.pkl\n",
            "y_train: /content/y_train_EURUSD_price.pkl\n",
            "X_val: /content/x_val_EURUSD_price.pkl\n",
            "y_val: /content/y_val_EURUSD_price.pkl\n",
            "X_test: /content/x_test_EURUSD_price.pkl\n",
            "y_test: /content/y_test_EURUSD_price.pkl\n",
            "\n",
            "Percentages:\n",
            "Training: 70.0%\n",
            "Validation: 15.0%\n",
            "Testing: 15.0%\n"
          ]
        }
      ]
    },
    {
      "cell_type": "code",
      "source": [
        "print(X_train.head())"
      ],
      "metadata": {
        "colab": {
          "base_uri": "https://localhost:8080/"
        },
        "id": "Ir-W7c-U1qIS",
        "outputId": "b46c0d07-827d-4c15-de5b-35476bb5c642"
      },
      "execution_count": null,
      "outputs": [
        {
          "output_type": "stream",
          "name": "stdout",
          "text": [
            "       Open      High       Low     Close    Volume  stochastic  momentum  \\\n",
            "0  0.817972  0.816385  0.814812  0.828998  0.909846   -0.375540 -0.823231   \n",
            "1  0.828454  0.844231  0.841671  0.833855  1.526717   -0.169445 -0.773092   \n",
            "2  0.834334  0.894047  0.849089  0.908751  1.865108    1.619651 -0.648379   \n",
            "3  0.908728  0.908097  0.915341  0.913864  0.705746    1.389359 -0.435391   \n",
            "4  0.914352  0.910652  0.914062  0.899549  0.703461    0.954050 -0.203831   \n",
            "\n",
            "    wiliams       ADI       EMA      MACD       RSI       ATR  \\\n",
            "0 -0.375540  2.309650  0.849296 -0.793577 -0.908798 -0.366554   \n",
            "1 -0.169445  2.271729  0.847423 -0.767831 -0.768887 -0.322339   \n",
            "2  1.619651  2.355578  0.855798 -0.516047  0.768729 -0.067037   \n",
            "3  1.389359  2.364515  0.863739 -0.297806  0.843935 -0.093260   \n",
            "4  0.954050  2.321411  0.868711 -0.166173  0.528502 -0.098250   \n",
            "\n",
            "   on_balance_volume    bb_bbm    bb_bbh    bb_bbl  \n",
            "0           2.445373  0.853183  0.812105  0.892657  \n",
            "1           2.523791  0.850508  0.806239  0.893197  \n",
            "2           2.612617  0.851737  0.813840  0.888013  \n",
            "3           2.665783  0.855231  0.825979  0.882802  \n",
            "4           2.612687  0.855858  0.828614  0.881409  \n"
          ]
        }
      ]
    },
    {
      "cell_type": "code",
      "source": [
        "print(y_train.head())"
      ],
      "metadata": {
        "id": "YVdcLTrIPtvN",
        "outputId": "98b29322-019c-4600-8e89-7ddf42d64975",
        "colab": {
          "base_uri": "https://localhost:8080/"
        }
      },
      "execution_count": null,
      "outputs": [
        {
          "output_type": "stream",
          "name": "stdout",
          "text": [
            "0    1\n",
            "1    1\n",
            "2    1\n",
            "3    1\n",
            "4    1\n",
            "Name: Label, dtype: int64\n"
          ]
        }
      ]
    }
  ]
}