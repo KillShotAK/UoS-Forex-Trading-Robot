{
  "nbformat": 4,
  "nbformat_minor": 0,
  "metadata": {
    "colab": {
      "provenance": []
    },
    "kernelspec": {
      "name": "python3",
      "display_name": "Python 3"
    },
    "language_info": {
      "name": "python"
    }
  },
  "cells": [
    {
      "cell_type": "code",
      "execution_count": null,
      "metadata": {
        "id": "4zmLF5Rpjh-T"
      },
      "outputs": [],
      "source": [
        "import pandas as pd\n",
        "\n",
        "# Load the datasets\n",
        "prices_df = pd.read_excel('Processed_EURUSD_prices_Hourly.xlsx')\n",
        "news_df = pd.read_excel('forex_sentiment_analysisnolabel_modified.xlsx')\n",
        "\n",
        "# Convert 'Date' columns to datetime format\n",
        "news_df['Date'] = pd.to_datetime(news_df['Date'].astype(str).str.replace('Z', '', regex=False), errors='coerce', utc=True).dt.tz_convert(None)\n",
        "prices_df['Date'] = pd.to_datetime(prices_df['Date'], errors='coerce')\n",
        "\n",
        "# Group news_df by date and sum the sentiment scores\n",
        "news_grouped = news_df.groupby(news_df['Date'].dt.date)['sentiment'].sum().reset_index()\n",
        "\n",
        "# Function to classify sentiment based on the sum of sentiment scores\n",
        "def classify_sentiment(score):\n",
        "    if score > 0:\n",
        "        return 1\n",
        "    elif score < 0:\n",
        "        return -1\n",
        "    else:\n",
        "        return 0\n",
        "\n",
        "# Apply the sentiment classification to the grouped data\n",
        "news_grouped['sentiment'] = news_grouped['sentiment'].apply(classify_sentiment)\n",
        "\n",
        "# Merge the datasets on the date\n",
        "aligned_df_corrected = pd.merge(prices_df, news_grouped, left_on=prices_df['Date'].dt.date, right_on='Date', how='left')\n",
        "\n",
        "# Forward fill the sentiment values to handle missing data\n",
        "aligned_df_corrected['sentiment'] = aligned_df_corrected['sentiment'].fillna(method='ffill')\n",
        "\n",
        "# Drop unnecessary columns if created during merging\n",
        "aligned_df_corrected.drop(columns=['Date_y'], inplace=True, errors='ignore')\n",
        "aligned_df_corrected.rename(columns={'Date_x': 'Date'}, inplace=True)\n",
        "\n",
        "# Save the corrected aligned dataset to an Excel file\n",
        "aligned_df_corrected.to_excel('aligned_forex_sentiment_data_corrected.xlsx', index=False)\n",
        "\n",
        "print(\"The corrected aligned Forex sentiment dataset has been successfully saved as 'aligned_forex_sentiment_data_corrected.xlsx'.\")\n"
      ]
    }
  ]
}